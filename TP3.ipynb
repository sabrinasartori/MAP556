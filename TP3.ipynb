{
 "cells": [
  {
   "cell_type": "markdown",
   "metadata": {},
   "source": [
    "### MAP556, Ecole Polytechnique, 2023-24"
   ]
  },
  {
   "cell_type": "markdown",
   "metadata": {},
   "source": [
    "\n",
    "# TP3 - The wing weight function"
   ]
  },
  {
   "cell_type": "markdown",
   "metadata": {},
   "source": [
    "La fonction suivante est un modèle pour le poids de l'aile d'un avion :"
   ]
  },
  {
   "cell_type": "markdown",
   "metadata": {},
   "source": [
    "$0.036*S_w^{0.758}W_{fw}^{0.0035} \\left(\\frac{A}{\\cos^2(\\Lambda)}\\right)^{0.6} q^{0.006}\\lambda^{0.04}\\left(\\frac{100t_c}{\\cos(\\Lambda)}\\right)^{-0.3}(N_xW_{dg})^{0.49} + S_wW_p$"
   ]
  },
  {
   "cell_type": "markdown",
   "metadata": {},
   "source": [
    "Elle est extraite de la bibliothèque virtuelle de fonctions de test de simulations expérimentales mise au point par Surjanovic et Bingham (2013).\n",
    "\n",
    "Les significations et les plages des variables sont indiquées dans le tableau ci-dessous."
   ]
  },
  {
   "cell_type": "markdown",
   "metadata": {},
   "source": [
    "| Variable  | Range         | Meaning                               |\n",
    "|:----------|:--------------|:--------------------------------------|\n",
    "| $S_w$     | [150, 200]    | Wing Arra (ft²)                      |\n",
    "| $W_{fw}$  | [220, 300]    | Weight of Fuel in the Wing (lb)          |\n",
    "| $A$       | [6, 10]       | Aspect Ratio                          |\n",
    "| $\\Lambda$ | [-10, 10]     | Quarter-Chord Sweep (degrees)        |\n",
    "| $q$       | [16, 45]      | Dynamic Pressure at Cruise (lb/ft²)  |\n",
    "| $\\lambda$ | [0.5, 1]      | Taper Ratio                           |\n",
    "| $t_c$     | [0.08, 0.18]  | Aerofoil Thickness to Chord Ratio    |\n",
    "| $N_x$     | [2.5, 6]      | Ultimate Load Factor                  |\n",
    "| $W_{dg}$  | [1700, 2500]  | Flight Design Gross Weight (lb)      |\n",
    "| $W_p$     | [0.025, 0.08] | Paint Weight (lb/ft²) "
   ]
  },
  {
   "cell_type": "markdown",
   "metadata": {},
   "source": [
    "La bibliothèque virtuelle contient du code pour implémenter cette fonction ainsi que des références à son origine. Notez que $\\Lambda$ est donné en degrés, de −10 à 10. Il se situe alors entre $\\pm 10\\pi/180$ radians, donc $\\cos(\\Lambda)$ ne s'approche pas de zéro, et les poids des ailes sont bornés.\n",
    "\n",
    "Nous étudierons la moyenne de cette fonction sur l’hypercube à 10 dimensions défini par les plages de ses variables d’entrée. Notre intégrande sur $[0,1]^{10}$ adapte d'abord chaque variable à sa plage, puis calcule le poids de l'aile. On ne chercherait normalement pas le poids moyen d’une aile d’avion conçue au hasard. Cet exemple est utile à titre d’illustration car il a une origine scientifique/ingénierie tout en ne nécessitant pas l’accès à un logiciel propriétaire spécialisé pour le calculer. Nous ignorerons également le fait que neuf des dix variables d’entrée peuvent être intégrées pour donner une forme élémentaire fermée. L’exception est $\\Lambda$.\n",
    "\n",
    "Nous pouvons appliquer un échantillonnage de Monte-Carlo simple ainsi qu'un échantillonnage quasi-Monte-Carlo à cet intégrande. Le but du TP est de montrer l'efficacité de la méthode quasi-Monte-Carlo en comparaison de l'échantillonnage Monte-Carlo."
   ]
  },
  {
   "cell_type": "markdown",
   "metadata": {},
   "source": [
    "### 1- Illustration de la répartition d'une suite dans [0,1]"
   ]
  },
  {
   "cell_type": "markdown",
   "metadata": {},
   "source": [
    "Rappelons que la discrépance $D_N(x)$ et la discrépance étoile $D_N^*(x)$ de la suite $x=\\{x_n\\}_{n \\geqslant 1}$ dans $[0,1]$ sont respectivement données par\n",
    "$$\n",
    "D_N(x) = \\sup_{0\\leqslant a<b \\leqslant 1} \\left| \\frac{1}{N} \\sum_{k=1}^N 1_{[a,b)}(x_k) - (b-a)\\right|\\,,\\qquad D_N^*(x) = \\sup_{ 0\\leqslant a \\leqslant 1} \\left| \\frac{1}{N} \\sum_{k=1}^N 1_{[0,a)}(x_k) - a\\right|.\n",
    "$$"
   ]
  },
  {
   "cell_type": "markdown",
   "metadata": {},
   "source": [
    "On se donne une suite de 100 points obtenue par un générateur aléatoire."
   ]
  },
  {
   "cell_type": "code",
   "execution_count": null,
   "metadata": {},
   "outputs": [],
   "source": [
    "import numpy as np\n",
    "import matplotlib.pyplot as plt\n",
    "import random\n",
    "\n",
    "size_sequence = 100  # Nombre de points dans la suite\n",
    "sequence = np.random.random(size_sequence)"
   ]
  },
  {
   "cell_type": "markdown",
   "metadata": {},
   "source": [
    "On peut afficher la suite pour visualiser la manière dont elle remplit l'intervalle $[0,1]$."
   ]
  },
  {
   "cell_type": "code",
   "execution_count": null,
   "metadata": {},
   "outputs": [],
   "source": [
    "# Afficher la suite et son remplissage de [0,1]\n",
    "plt.plot(sequence, 'bo', label='Suite aléatoire')\n",
    "for i in range(size_sequence):\n",
    "    plt.plot([i,size_sequence],[sequence[i],sequence[i]],'r-')\n",
    "\n",
    "plt.xlabel('Indice')\n",
    "plt.ylabel('Valeur')\n",
    "plt.legend()\n",
    "plt.grid(True)\n",
    "plt.show()"
   ]
  },
  {
   "cell_type": "markdown",
   "metadata": {},
   "source": [
    "### 2- Calcul de la discrépance\n",
    "\n",
    "On cherche à calculer la discrépance de la suite précédente. Mais pour calculer un supremum sur $a$ et $b$ dans $[0,1]$, on est clairement face à un problème informatique. Une première idée est de se représenter une grille finie $G$ sur $[0,1]\\times [0,1]$ constituée de couples de variables $(a_i,b_j)_{i\\in I, j\\in J}$ dans laquelle on va faire varier les variables $a$ et $b$ . En calculant la discrépance locale entre $a$ et $b$ définie par \n",
    "$$\n",
    "D_N(x,a,b) = \\left| \\frac{1}{N} \\sum_{k=1}^N 1_{[a,b)}(x_k) - (b-a)\\right|,\n",
    "$$\n",
    "on obtient une borne inférieure de la discrépance par la formule\n",
    "$$\n",
    "D_N(x) \\geq \\sup_{(a,b)\\in G} D_N(x,a,b).\n",
    "$$"
   ]
  },
  {
   "cell_type": "markdown",
   "metadata": {},
   "source": [
    "#### $\\blacktriangleright$ Question 1 [code] : Ecrire un code python pour calculer la discrépance locale entre deux bornes $a$ et $b$. On pourra utiliser la fonction `filter(lambda x: a <= x < b, sequence)` pour extraire une sous-suite."
   ]
  },
  {
   "cell_type": "code",
   "execution_count": null,
   "metadata": {},
   "outputs": [],
   "source": [
    "###################################################\n",
    "# Réponse 1 [code] :\n",
    "###################################################\n",
    "def calculate_local_discrepancy(sequence,a,b):\n",
    "    ##>>>> Completer <<<<##\n",
    "    return 0"
   ]
  },
  {
   "cell_type": "markdown",
   "metadata": {},
   "source": [
    "A l'aide de la discrépance locale, on peut alors calculer le supremum sur une grille uniforme de taille $\\mathcal{O}(P^2)$ avec $G:=\\left\\{\\left(\\frac{i}{P},\\frac{j}{P}\\right)\\right\\}_{0\\leq i<j\\leq P}$."
   ]
  },
  {
   "cell_type": "code",
   "execution_count": null,
   "metadata": {},
   "outputs": [],
   "source": [
    "def calculate_discrepancy_on_mesh(sequence,size_mesh):\n",
    "    max_discrepancy = 0\n",
    "    for i in range(0, size_mesh):\n",
    "        for j in range(i + 1, size_mesh+1):\n",
    "            left = i/size_mesh\n",
    "            right = j/size_mesh \n",
    "            d_local = calculate_local_discrepancy(sequence,left,right)\n",
    "            max_discrepancy = max(max_discrepancy, d_local)\n",
    "    \n",
    "    return max_discrepancy"
   ]
  },
  {
   "cell_type": "code",
   "execution_count": null,
   "metadata": {},
   "outputs": [],
   "source": [
    "# Afficher la borne inférieure de la discrépance de la suite\n",
    "size_mesh = 100;\n",
    "discrepancy = calculate_discrepancy_on_mesh(sequence,size_mesh)\n",
    "print(f'Pour une taille de maillage {size_mesh}x{size_mesh} la borne inférieure de la discrépance est {discrepancy:.4f}.')"
   ]
  },
  {
   "cell_type": "markdown",
   "metadata": {},
   "source": [
    "#### $\\blacktriangleright$ Question 2 [code] : La méthode n'est clairement pas optimale. Proposer une amélioration simple en choisissant astucieusement la grille $G$. On pourra s'inspirer du dessin suivant réalisé en 2D pour une meilleure visualisation. "
   ]
  },
  {
   "cell_type": "code",
   "execution_count": null,
   "metadata": {},
   "outputs": [],
   "source": [
    "plt.figure(figsize=(6, 6))\n",
    "plt.scatter(sequence[0:10],sequence[0:10], marker='o', label='Sequence')\n",
    "plt.plot([sequence[5], sequence[9],sequence[9],sequence[5],sequence[5]], [sequence[5],sequence[5],sequence[9],sequence[9],sequence[5]], 'r--', label='Sous-intervalle')\n",
    "\n",
    "# Afficher le graphique\n",
    "plt.title('Points de la suite')\n",
    "plt.legend()\n",
    "plt.grid(True)\n",
    "plt.show()"
   ]
  },
  {
   "cell_type": "code",
   "execution_count": null,
   "metadata": {},
   "outputs": [],
   "source": [
    "###################################################\n",
    "# Réponse 2 [code] :\n",
    "###################################################\n",
    "def calculate_discrepancy_sub_interval(sequence):\n",
    "    ##>>>> Completer <<<<##\n",
    "    return 0"
   ]
  },
  {
   "cell_type": "code",
   "execution_count": null,
   "metadata": {},
   "outputs": [],
   "source": [
    "# Afficher la discrépance de la suite\n",
    "discrepancy = calculate_discrepancy_sub_interval(sequence)\n",
    "print(f'La discrépance est {discrepancy:.4f}.')"
   ]
  },
  {
   "cell_type": "markdown",
   "metadata": {},
   "source": [
    "#### $\\blacktriangleright$ Question 3 [code] : En remarquant que la discrépance étoile a une expression simplifiée (voir TD), écrire un code python pour calculer la discrépance étoile d'une suite."
   ]
  },
  {
   "cell_type": "code",
   "execution_count": null,
   "metadata": {},
   "outputs": [],
   "source": [
    "###################################################\n",
    "# Réponse 3 [code] :\n",
    "###################################################\n",
    "def calculate_discrepancy_star(sequence):\n",
    "    ##>>>> Completer <<<<##    \n",
    "    return 0"
   ]
  },
  {
   "cell_type": "code",
   "execution_count": null,
   "metadata": {},
   "outputs": [],
   "source": [
    "# Afficher la discrépance étoile de la suite\n",
    "discrepancy = calculate_discrepancy_star(sequence)\n",
    "size_seq = len(sequence)\n",
    "print(f'La discrépance étoile est {discrepancy:.4f}.')\n",
    "# Afficher la suite et la discrépance étoile\n",
    "sorted_sequence = np.sort(sequence)\n",
    "plt.plot(range(1,size_seq+1),sorted_sequence, 'bo', label='Suite aléatoire')\n",
    "plt.plot(range(1,size_seq+1),(2*np.linspace(1,size_seq,size_seq)-1)/(2*size_seq),'r-')\n",
    "plt.title(f'Discrépance étoile : {discrepancy:.4f}')\n",
    "plt.xlabel('Indice')\n",
    "plt.ylabel('Valeur')\n",
    "plt.legend()\n",
    "plt.grid(True)\n",
    "plt.show()"
   ]
  },
  {
   "cell_type": "markdown",
   "metadata": {},
   "source": [
    "### 3- Génération de suites déterministes à discrépance faible."
   ]
  },
  {
   "cell_type": "markdown",
   "metadata": {},
   "source": [
    "On peut générer une suite (non aléatoire) à discrépance faible. Un premier exemple consiste à utiliser une écriture en base $b$  pour générer la suite de van der Corput."
   ]
  },
  {
   "cell_type": "markdown",
   "metadata": {},
   "source": [
    "#### $\\blacktriangleright$ Question 4 [code] : Définir une fonction qui permet de générer les $n$ premiers éléments de la suite de van der Corput en base $b$."
   ]
  },
  {
   "cell_type": "code",
   "execution_count": null,
   "metadata": {},
   "outputs": [],
   "source": [
    "###################################################\n",
    "# Réponse 4 [code] :\n",
    "###################################################\n",
    "def van_der_corput_sequence(n, base=2):\n",
    "    ##>>>> Completer <<<<##\n",
    "    return 0"
   ]
  },
  {
   "cell_type": "code",
   "execution_count": null,
   "metadata": {},
   "outputs": [],
   "source": [
    "# Générer une séquence de Van der Corput avec 10 points (en base 2)\n",
    "size_sequence = 15  # Nombre de points dans la suite\n",
    "sequence = van_der_corput_sequence(size_sequence)\n",
    "\n",
    "# Afficher les premiers points générés\n",
    "print(\"Séquence de Van der Corput :\")\n",
    "for i, value in enumerate(sequence, start=1):\n",
    "    print(f\"Point {i}: {value:.4f}\")"
   ]
  },
  {
   "cell_type": "code",
   "execution_count": null,
   "metadata": {},
   "outputs": [],
   "source": [
    "# Afficher la discrépance étoile de la suite\n",
    "discrepancy = calculate_discrepancy_star(sequence)\n",
    "size_seq = len(sequence)\n",
    "print(f'La discrépance étoile est {discrepancy:.4f}.')\n",
    "# Afficher la suite et son remplissage de [0,1]\n",
    "plt.plot(sequence, 'bo', label='Suite de van der Corput')\n",
    "for i in range(size_sequence):\n",
    "    plt.plot([i,size_sequence],[sequence[i],sequence[i]],'r-')\n",
    "\n",
    "plt.xlabel('Indice')\n",
    "plt.ylabel('Valeur')\n",
    "plt.title('Points 1D générés avec la suite de van der Corput')\n",
    "plt.legend()\n",
    "plt.grid(True)\n",
    "plt.show()\n",
    "# Afficher la suite et la discrépance étoile\n",
    "sorted_sequence = np.sort(sequence)\n",
    "plt.plot(range(1,size_seq+1),sorted_sequence, 'bo', label='Suite de van der Corput')\n",
    "plt.plot(range(1,size_seq+1),(2*np.linspace(1,size_seq,size_seq)-1)/(2*size_seq),'r-')\n",
    "plt.title(f'Discrépance étoile : {discrepancy:.4f}')\n",
    "plt.xlabel('Indice')\n",
    "plt.ylabel('Valeur')\n",
    "plt.legend()\n",
    "plt.grid(True)\n",
    "plt.show()"
   ]
  },
  {
   "cell_type": "markdown",
   "metadata": {},
   "source": [
    "#### $\\blacktriangleright$ Question 4bis [code] : Définir une fonction qui permet de générer les $n$ premiers éléments de la suite de Halton en base $b=3$. Et définir une fonction qui permet de générer les suites de Halton en toutes dimensions.\n",
    "\n",
    "Indication : Pour permettre son utilisation dans la suite du TP, on se donne le début de code suivant pour générer les suites de Halton en toutes dimensions.\n",
    "Il est basé sur le calcul des nombres premiers successifs. Et on fournit une fonction de visualisation en dimensions 1 et 2."
   ]
  },
  {
   "cell_type": "code",
   "execution_count": null,
   "metadata": {},
   "outputs": [],
   "source": [
    "###################################################\n",
    "# Réponse 4bis [code] :\n",
    "###################################################\n",
    "# Fonction simple pour calculer la suite de Halton en dimension 1 en base 3.\n",
    "def halton_sequence(n, base=3):\n",
    "    sequence = np.zeros(n)\n",
    "    for i in range(n):\n",
    "    ##>>>> Completer <<<<##         \n",
    "    return sequence\n",
    "\n",
    "# Fonction pour calculer le prochain nombre premier.\n",
    "def next_prime():\n",
    "    prime = 2\n",
    "    while True:\n",
    "        yield prime\n",
    "        prime += 1\n",
    "        while not all(prime % np.arange(2, int(np.sqrt(prime)) + 1)):\n",
    "            prime += 1\n",
    "\n",
    "# Fonction pour calculer la suite de Halton en dimension d.\n",
    "def halton_sequence_dimension(n,d):\n",
    "    sequence = np.zeros((n, d))\n",
    "    primes = next_prime()\n",
    "    for j in range(d):\n",
    "        base = next(primes)\n",
    "    ##>>>> Completer <<<<##        \n",
    "    return sequence"
   ]
  },
  {
   "cell_type": "code",
   "execution_count": null,
   "metadata": {},
   "outputs": [],
   "source": [
    "# Générer les premières valeurs de la suite de Halton 1D\n",
    "dimension = 1\n",
    "size_sequence = 15  # Nombre de points dans la suite\n",
    "sequence = halton_sequence(size_sequence)\n",
    "\n",
    "# Afficher la suite et son remplissage de [0,1]\n",
    "plt.plot(sequence, 'bo', label='Suite de Halton')\n",
    "for i in range(size_sequence):\n",
    "    plt.plot([i,size_sequence],[sequence[i],sequence[i]],'r-')\n",
    "\n",
    "plt.xlabel('Indice')\n",
    "plt.ylabel('Valeur')\n",
    "plt.title('Points 1D générés avec la suite de Halton')\n",
    "plt.legend()\n",
    "plt.grid(True)\n",
    "plt.show()\n",
    "\n",
    "# Afficher la discrépance étoile de la suite\n",
    "discrepancy = calculate_discrepancy_star(sequence)\n",
    "size_seq = len(sequence)\n",
    "print(f'La discrépance étoile est {discrepancy:.4f}.')\n",
    "# Afficher la suite et la discrépance étoile\n",
    "sorted_sequence = np.sort(sequence)\n",
    "plt.plot(range(1,size_seq+1),sorted_sequence, 'bo', label='Suite de Halton')\n",
    "plt.plot(range(1,size_seq+1),(2*np.linspace(1,size_seq,size_seq)-1)/(2*size_seq),'r-')\n",
    "plt.title(f'Discrépance étoile : {discrepancy:.4f}')\n",
    "plt.xlabel('Indice')\n",
    "plt.ylabel('Valeur')\n",
    "plt.legend()\n",
    "plt.grid(True)\n",
    "plt.show()"
   ]
  },
  {
   "cell_type": "code",
   "execution_count": null,
   "metadata": {},
   "outputs": [],
   "source": [
    "# Générer les premières valeurs de la suite de Halton 2D\n",
    "dimension = 2\n",
    "size_sequence = 81  # Nombre de points dans la suite\n",
    "sequence_2D = halton_sequence_dimension(size_sequence,dimension)\n",
    "\n",
    "# Afficher les points générés\n",
    "plt.scatter(sequence_2D[:, 0], sequence_2D[:, 1], marker='o')\n",
    "plt.title('Points 2D générés avec la suite de Halton')\n",
    "plt.xlabel('Abscisses')\n",
    "plt.ylabel('Ordonnées')\n",
    "plt.show()"
   ]
  },
  {
   "cell_type": "markdown",
   "metadata": {},
   "source": [
    "### 4- Calcul d'intégrales"
   ]
  },
  {
   "cell_type": "markdown",
   "metadata": {},
   "source": [
    "#### $\\blacktriangleright$ Question 5 [code] : Ecrire une fonction pour calculer l'intégrale d'une fonction quelconque sur l'intervalle $[0,1]$ à l'aide d'une suite donnée. "
   ]
  },
  {
   "cell_type": "code",
   "execution_count": null,
   "metadata": {},
   "outputs": [],
   "source": [
    "###################################################\n",
    "# Réponse 5 [code] :\n",
    "###################################################\n",
    "def compute_integral(func,sequence):\n",
    "    ##>>>> Completer <<<<##    \n",
    "    return 0"
   ]
  },
  {
   "cell_type": "markdown",
   "metadata": {},
   "source": [
    "On définit la fonction `square` suivante : "
   ]
  },
  {
   "cell_type": "code",
   "execution_count": null,
   "metadata": {},
   "outputs": [],
   "source": [
    "def square(x):\n",
    "    return x*x"
   ]
  },
  {
   "cell_type": "markdown",
   "metadata": {},
   "source": [
    "#### $\\blacktriangleright$ Question 6 [code] : On définit\n",
    "$$\n",
    "I_N(x,f) := \\frac{1}{N}\\sum_{n=0}^N f(x_n)\n",
    "$$\n",
    "#### les intégrales approchées utilisant les $N$ premiers points de la suite $x:=\\{x_n\\}_{n\\geqslant 1}$. Tester votre code précédent en calculant l'intégrale approchée $I_N$ de la fonction $square$ sur $[0,1]$ avec les $N=1000$ premiers points des différentes suites à discrépance faible construites précédemment."
   ]
  },
  {
   "cell_type": "code",
   "execution_count": null,
   "metadata": {},
   "outputs": [],
   "source": [
    "###################################################\n",
    "# Réponse 6 [code] :\n",
    "###################################################\n",
    "# Générer les 3 suites à discrépance faible.\n",
    "    ##>>>> Completer <<<<##\n",
    "# Calculer les intégrales.\n",
    "    ##>>>> Completer <<<<##\n",
    "# Affichage des résultats\n",
    "print(\"Intégrales calculées:\", result_random, result_vandercorput, result_halton)"
   ]
  },
  {
   "cell_type": "markdown",
   "metadata": {},
   "source": [
    "#### $\\blacktriangleright$ Question 7 [code] : Illustrer les vitesses de convergence de $I_N(x,f)$ vers $\\int_0^1 f(u) du$ en fonction du nombre $N$ de points de chaque suite $x$. "
   ]
  },
  {
   "cell_type": "code",
   "execution_count": null,
   "metadata": {},
   "outputs": [],
   "source": [
    "###################################################\n",
    "# Réponse 7 [code] :\n",
    "###################################################\n",
    "N = 1000\n",
    "\n",
    "func = square\n",
    "\n",
    "results_random = np.zeros(N)\n",
    "results_van_der_corput = np.zeros(N)\n",
    "results_halton = np.zeros(N)\n",
    "sequence_random = np.random.random(N)\n",
    "sequence_van_der_corput = van_der_corput_sequence(N)\n",
    "sequence_halton = halton_sequence(N)\n",
    "\n",
    "    ##>>>> Completer <<<<##\n",
    "\n",
    "plt.plot(results_random, 'b-', label='Random')\n",
    "plt.plot(results_van_der_corput, 'r-', label='van der Corput')\n",
    "plt.plot(results_halton, 'g-', label='Halton')\n",
    "plt.xlabel('Nombre de points')\n",
    "plt.ylabel('Valeur approchée')\n",
    "plt.legend()\n",
    "plt.grid(True)\n",
    "plt.show()\n"
   ]
  },
  {
   "cell_type": "markdown",
   "metadata": {},
   "source": [
    "#### $\\blacktriangleright$ Question 8 [code] : Calculer l'intégrale de la fonction Wing weight avec une suite aléatoire et la suite de Halton en dimension 10. En premier lieu, on généralisera le calcul de l'intégrale uni-dimensionnelle au cas d'une intégrale multiple sur $[0,1]^d$ en dimension $d$."
   ]
  },
  {
   "cell_type": "code",
   "execution_count": null,
   "metadata": {},
   "outputs": [],
   "source": [
    "# Renormalisation des paramètres dans l'hypercube [0,1]^d\n",
    "def wing_weight(x):\n",
    "    S_w = 150 + (200-150)*x[0]\n",
    "    W_fw = 220 + (300-220)*x[1]\n",
    "    A = 6 + (10-6)*x[2]\n",
    "    lambda_majus = (-10 + (10-(-10))*x[3])*np.pi/180\n",
    "    q = 16+(45-16)*x[4]\n",
    "    lambda_minus = 0.5 + (1-0.5)*x[5]\n",
    "    t_c = 0.08 + (0.18-0.08)*x[6]\n",
    "    N_x = 2.5 + (6-2.5)*x[7] \n",
    "    W_dg = 1700 + (2500-1700)*x[8]\n",
    "    W_p = 0.025 + (0.08-0.025)*x[9]\n",
    "    return 0.036 * S_w**0.758 * W_fw**0.0035 * (A / (np.cos(lambda_majus)**2))**0.6 * q**0.006 * lambda_minus**0.04 * (100 * t_c / np.cos(lambda_majus))**(-0.3) * (N_x * W_dg)**0.49 + S_w * W_p"
   ]
  },
  {
   "cell_type": "code",
   "execution_count": null,
   "metadata": {},
   "outputs": [],
   "source": [
    "###################################################\n",
    "# Réponse 8 [code] :\n",
    "###################################################\n",
    "# Fonction pour calculer une intégrale sur l'hypercube [0,1]^d\n",
    "def compute_integral_dimension(func,sequence):\n",
    "    ##>>>> Completer <<<<##    \n",
    "    return 0"
   ]
  },
  {
   "cell_type": "code",
   "execution_count": null,
   "metadata": {},
   "outputs": [],
   "source": [
    "###################################################\n",
    "# Réponse 8 [code] :\n",
    "###################################################\n",
    "N = 1000\n",
    "d = 10\n",
    "\n",
    "func = wing_weight\n",
    "\n",
    "results_random = np.zeros(N)\n",
    "results_halton = np.zeros(N)\n",
    "sequence_random = np.random.random((N,d))\n",
    "sequence_halton = halton_sequence_dimension(N,d)\n",
    "\n",
    "    ##>>>> Completer <<<<##   \n",
    "\n",
    "plt.plot(results_random, 'b-', label='Random')\n",
    "plt.plot(results_van_der_corput, 'r-', label='van der Corput')\n",
    "plt.plot(results_halton, 'g-', label='Halton')\n",
    "plt.xlabel('Nombre de points')\n",
    "plt.ylabel('Valeur approchée')\n",
    "plt.legend()\n",
    "plt.grid(True)\n",
    "plt.show()"
   ]
  },
  {
   "cell_type": "markdown",
   "metadata": {},
   "source": [
    "Les moyennes cumulatives de Halton semblent suivre une tendance monotone à mesure que n augmente. Une explication possible est que les moyennes cumulées des entrées ont tendance à s'approcher de 0,5 par le bas et que la fonction de poids de l'aile augmente de manière monotone dans la plupart de ses entrées. Peut-être qu'un échantillonnage antithétique avec la séquence de Halton améliorerait l'estimation du poids moyen des ailes."
   ]
  },
  {
   "cell_type": "markdown",
   "metadata": {},
   "source": [
    "#### $\\blacktriangleright$ Question 9 [math+code] : Dans le cas d'une suite aléatoire, pouvez-vous donner un ordre de grandeur du comportement de $I_N$ lorsque $N$ tend vers $+\\infty$ ? Simulez un échantillon de taille $M$ de variables aléatoires $I_N$ avec $N$ et $M$ grands pour vérifier votre conjecture. On pourra s'appuyer sur les résultats fournis par la loi forte des grand nombres et le théorème central limite."
   ]
  },
  {
   "cell_type": "code",
   "execution_count": null,
   "metadata": {},
   "outputs": [],
   "source": [
    "###################################################\n",
    "# Réponse 9 [code] :\n",
    "###################################################\n",
    "N = 100 # Taille de la suite aléatoire ou à discrépance faible.\n",
    "M = 1000 # Taille de l'échantillon pour l'estimation Monte-Carlo.\n",
    "####################################################\n",
    "I_N = np.zeros(M)\n",
    "\n",
    "    ##>>>> Completer <<<<##   \n",
    "\n",
    "exact = 0\n",
    "####################################################\n",
    "# Affichage des valeurs aléatoires\n",
    "plt.plot(I_N, label=\"Estimation I_N\")\n",
    "plt.plot([1,M],[exact,exact],label=\"Valeur exacte\")\n",
    "plt.legend(loc=\"best\")"
   ]
  },
  {
   "cell_type": "code",
   "execution_count": null,
   "metadata": {},
   "outputs": [],
   "source": [
    "###################################################\n",
    "# Réponse 9 [code] :\n",
    "###################################################\n",
    "N = 100 # Taille de la suite aléatoire ou à discrépance faible.\n",
    "M = 1000 # Taille de l'échantillon pour l'estimation Monte-Carlo.\n",
    "####################################################\n",
    "\n",
    "    ##>>>> Completer <<<<##   \n",
    "\n",
    "####################################################\n",
    "# Affichage\n",
    "plt.hist(erreurNormalisee_N, density=\"True\", bins=int(np.sqrt(M)), label=\"erreur normalisée\")\n",
    "x = np.linspace(-5,5,100)\n",
    "densiteGaussienne = np.exp(-x*x/2.) / np.sqrt(2. * np.pi)\n",
    "plt.plot(x,densiteGaussienne, color=\"red\", label=\"densité gaussienne\", linewidth=2.0)\n",
    "plt.legend(loc=\"best\")"
   ]
  },
  {
   "cell_type": "markdown",
   "metadata": {},
   "source": [
    "#### $\\blacktriangleright$ Question 10 [math+code] ($\\textcolor{red}{optional}$) : Dans le cas de la suite de Halton ou de van der Corput, pouvez-vous donner un ordre de l'ordre de convergence de $I_N$ lorsque $N$ tend vers $+\\infty$ "
   ]
  },
  {
   "cell_type": "code",
   "execution_count": null,
   "metadata": {},
   "outputs": [],
   "source": [
    "###################################################\n",
    "# Réponse 10 [code] :\n",
    "###################################################\n",
    "# Module de continuité de la fonction étudiée.\n",
    "def continuity_modulus(x):\n",
    "    return 0\n",
    "\n",
    "####################################################\n",
    "N = 100 # Taille maximale de la suite à discrépance faible.\n",
    "\n",
    "I_N = np.zeros(N)\n",
    "D_N = np.zeros(N)\n",
    "MD_N = np.zeros(N)\n",
    "\n",
    "sequence_van_der_corput = van_der_corput_sequence(N)\n",
    "\n",
    "for n in range(N):\n",
    "    \n",
    "    ##>>>> Completer <<<<##   \n",
    "\n",
    "exact = 0\n",
    "\n",
    "####################################################\n",
    "plt.plot(abs(I_N-exact), color=\"blue\",label=\"van der Corput\")\n",
    "plt.plot(D_N, color=\"red\",label=\"Discrépance star\")\n",
    "plt.plot(MD_N, color=\"green\",label=\"M(Discrépance star)\")\n",
    "\n",
    "plt.legend(loc=\"best\")"
   ]
  },
  {
   "cell_type": "markdown",
   "metadata": {},
   "source": [
    "La dernière étape consiste à ajouter un comportement aléatoire à la suite de discrépance faible pour bénéficier de nouveau des intervalles de confiance. Dans le temps restant, vous pouvez développer une version \"randomisée\" des suites à discrépance faible et étudier leur comportement asymptotique."
   ]
  }
 ],
 "metadata": {
  "kernelspec": {
   "display_name": "Python 3 (ipykernel)",
   "language": "python",
   "name": "python3"
  },
  "language_info": {
   "codemirror_mode": {
    "name": "ipython",
    "version": 3
   },
   "file_extension": ".py",
   "mimetype": "text/x-python",
   "name": "python",
   "nbconvert_exporter": "python",
   "pygments_lexer": "ipython3",
   "version": "3.7.13"
  }
 },
 "nbformat": 4,
 "nbformat_minor": 2
}
