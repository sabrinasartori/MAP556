{
 "cells": [
  {
   "cell_type": "markdown",
   "id": "274c0a66",
   "metadata": {},
   "source": [
    "# Simulating Poisson processes and Brownian bridges\n",
    "\n",
    "## Simulating an inhomogeneous Poisson process by thinning\n",
    "\n",
    "#### Inhomogeneous Poisson process\n",
    "\n",
    "The goal here is to experiment around the thinning of inhomogeneous Poisson processes. An \\textit{inhomogeneous Poisson process} (or non-homogeneous Poisson process) is a stochastic process $ \\{ N(t) \\}_{t \\geq 0}$ with a time-varying intensity function $ \\lambda(t) $ such that:    \n",
    "     - **Incremental Independence:** For any $ 0 \\leq t_1 < t_2 < \\dots < t_n $, the increments $ N(t_2) - N(t_1), N(t_3) - N(t_2), \\dots, N(t_n) - N(t_{n-1}) $ are independent.  \n",
    "     - **Inhomogeneous Poisson Increment Property:** The number of events occurring in an interval $ (s, t] $, for $ s < t $, follows a Poisson distribution with mean\n",
    "    $$\n",
    "    \\mathbb{E}[N(t) - N(s)] = \\int_s^t \\lambda(u) \\, du\n",
    "    $$\n",
    "    That is,\n",
    "    $$\n",
    "    N(t) - N(s) \\sim \\text{Poisson} \\left( \\int_s^t \\lambda(u) \\, du \\right).\n",
    "    $$   \n",
    "    - **Initial Condition:** $N(0) = 0 $.  \n",
    "    - **Interarrival time** (or event time): The probability density function $f_{T_1}(t_0,t)$ of the first arrival time $T_1$ after $t_0$ is: $$f_{T_1}(t)=\\lambda(t)e^{-\\Lambda(t)}, \\text{ with }\\Lambda(t)=\\int_{t_0}^t \\lambda(u) \\, du.$$\n",
    "\n",
    "#### The thinning method\n",
    "An inhomogeneous Poisson process of rate $\\lambda(t)\\leq \\lambda_M, \\forall t$ can be simulated by considering a bound homogeneous Poisson process of rate $\\lambda_M$:\n",
    "\n",
    "- starting at $\\tau_{0}=0$\n",
    "- generating the interarrival time $\\tau$ of the bound Poisson process of rate $\\lambda_M$ by inversion sampling of the exponential law of parameter $\\lambda_M$\n",
    "- resampling this event as a true event with probability $\\frac{\\lambda(\\tau+\\tau_0)}{\\lambda_M} $\n",
    "- If $\\tau+\\tau_0$ is resampled as the interarrival time of the true Poisson process, output $\\tau+\\tau_0$. If not, update $\\tau_0 = \\tau_0 + \\tau$ and repeat the previous steps.\n",
    "\n",
    "Refs:\n",
    "\n",
    "(1) APA Lewis, P. A., & Shedler, G. S. (1979). Simulation of nonhomogeneous Poisson processes by thinning. Naval Research Logistics Quarterly, 26(3), 403-413."
   ]
  },
  {
   "cell_type": "markdown",
   "id": "aebb4b9c",
   "metadata": {},
   "source": [
    "### Questions\n",
    "1. Show that the thinning simulation method is correct. (Hint: Adapt exercise 5.1)"
   ]
  },
  {
   "cell_type": "markdown",
   "id": "d611f9f5",
   "metadata": {},
   "source": [
    "Library importation"
   ]
  },
  {
   "cell_type": "code",
   "execution_count": 1,
   "id": "f7606657",
   "metadata": {},
   "outputs": [],
   "source": [
    "import numpy as np\n",
    "import random, math\n",
    "import matplotlib.pyplot as plt\n",
    "from matplotlib.collections import PatchCollection\n",
    "import matplotlib.lines as mlines\n",
    "from matplotlib.ticker import FixedLocator\n",
    "\n",
    "plt.rcParams['xtick.major.size'] = 8\n",
    "plt.rcParams['xtick.minor.size'] = 8\n",
    "plt.rcParams['ytick.major.size'] = 8\n",
    "plt.rcParams['ytick.minor.size'] = 8"
   ]
  },
  {
   "cell_type": "markdown",
   "id": "6262391d",
   "metadata": {},
   "source": [
    "We consider the problem of simulating from the first event time of a non-homogenous Poisson process of rate $\\lambda$:\n",
    "$$\\lambda(t) = \\max(\\sin(t),0), \\forall t\\geq 0 $$"
   ]
  },
  {
   "cell_type": "markdown",
   "id": "b2e8fcec",
   "metadata": {},
   "source": [
    "### Questions\n",
    "2. Find $\\lambda_M$ such that $\\lambda_M\\geq \\lambda(t), \\forall t$  \n",
    "In the code below, please,\n",
    "3. Assign a correct value to `self.lambda_M`\n",
    "4. Code the `homogeneousPP_generation` routine which outputs the interarrival time of a Poisson process of homogeneous rate `self.lambda_M` by inversion sampling\n",
    "5. Code the `thinning_generation` routine which outputs the interarrival time of the inhomogeneous Poisson process of rate $\\lambda(t)$ (given by the routine `lambda_rate`) by thinning using the PP of rate $\\lambda_M$\n",
    "6. Code the `theoretical_arrival` routine which outputs the probability density of a given time to be the interarrival time of the target inhomogeneous PP\n"
   ]
  },
  {
   "cell_type": "code",
   "execution_count": 2,
   "id": "93ec76c4",
   "metadata": {},
   "outputs": [],
   "source": [
    "class max_cos_PP:\n",
    "    def __init__(self,lambda_M):\n",
    "        # Parameter initialization\n",
    "        self.lambda_M = lambda_M\n",
    "    \n",
    "    def lambda_rate(self,t):\n",
    "        return max(0,math.sin(t))\n",
    "    \n",
    "    def homogeneousPP_generation(self):\n",
    "        # Write a routine generating the event times of the\n",
    "        # homogeneous PP of rate lambda_M\n",
    "        return  \n",
    "        \n",
    "    def direct_generation(self):\n",
    "        # Routine generating by inversion the event times\n",
    "        # of the PP of rate lambda    \n",
    "        ran_tot = -math.log(random.uniform(0.0,1.0))\n",
    "        tau = 2.0 * math.pi * (ran_tot//2)\n",
    "        ran_tot = ran_tot % 2.0\n",
    "        tau +=  math.acos(1-ran_tot)\n",
    "        return tau\n",
    "        \n",
    "    def thinning_generation(self):\n",
    "        # Write a routine generating the event times of the\n",
    "        # PP of rate lambda by thinning\n",
    "        return \n",
    "            \n",
    "    def theoretical_arrival(self,t):\n",
    "        # Write a routine generating the probability \n",
    "        # value for t to be the first arrival time \n",
    "        # of the target PP\n",
    "        return "
   ]
  },
  {
   "cell_type": "markdown",
   "id": "1ec48209",
   "metadata": {},
   "source": [
    "### Questions\n",
    "7. Compare the normed histograms of the interarrival times obtained with the `direct_generation`(directly sampling by inversion of the inhomogeneous PP), the `thinning_generation` and the theoretical value. Compare to the normed histogram of the interarrival times of the bound homogeneous PP of rate $\\lambda_M$."
   ]
  },
  {
   "cell_type": "code",
   "execution_count": null,
   "id": "c577a9ae",
   "metadata": {},
   "outputs": [],
   "source": []
  },
  {
   "cell_type": "markdown",
   "id": "d90a703c",
   "metadata": {},
   "source": [
    "8. Compare the cumulative histograms of the first event times obtained with the `direct_generation`(directly sampling by inversion of the inhomogeneous PP), the `thinning_generation` and the theoretical values. Compare also to the cumulative histogram of the first event times of the bound homogeneous PP of rate $\\lambda_M$. Confirm why the thinning method is correct."
   ]
  },
  {
   "cell_type": "code",
   "execution_count": null,
   "id": "1a69eead",
   "metadata": {},
   "outputs": [],
   "source": []
  },
  {
   "cell_type": "markdown",
   "id": "10effbd8",
   "metadata": {},
   "source": [
    "9. **[BONUS]** How is the number of generated bound events required to resample a true one behaving with $\\lambda_M$? Please, provide a plot.\n",
    "10. **[BONUS]** What is a good choice for $\\lambda_M$?"
   ]
  },
  {
   "cell_type": "code",
   "execution_count": null,
   "id": "67d394c7",
   "metadata": {},
   "outputs": [],
   "source": []
  },
  {
   "cell_type": "markdown",
   "id": "42a35e0b",
   "metadata": {},
   "source": [
    "## Generating Brownian motion intermediate position\n",
    "\n",
    "### Brownian bridge\n",
    "\n",
    "We consider a sequence \n",
    "$$(B_{t_1},B_{t_2},\\dots,B_{t_{n+1}}), \\text{ with } t_1<t_2<\\dots<t_{n+1}$$ \n",
    "of successive positions of a Brownian motion. In exercise 6.4, we saw how to sample the intermediate positions, i.e. $$(B_{t_1},\\mathbf{B_{s_1}},B_{t_2},\\mathbf{B_{s_2}},\\dots,\\mathbf{B_{s_n}},B_{t_{n+1}}), \\text{ with } t_1<s_1<t_2<s_2<\\dots<s_n<t_{n+1}.$$\n",
    "\n",
    "For an intermediate position at time $s_k$, \n",
    "$$ B_{s_k} = \\frac{t_{k+1}-s_k}{t_{k+1}-t_k}B_{t_k} + \\frac{s_k - t_k}{t_{k+1}-t_k}B_{t_{k+1}} + \\sqrt{t_{k+1}-t_k} Z,$$\n",
    "with, $$Z\\sim \\mathcal{N}\\left(0,\\frac{(t_{k+1}-s_k)(s_k-t_k)}{t_{k+1}-t_k)^2}\\right).\n",
    "$$"
   ]
  },
  {
   "cell_type": "markdown",
   "id": "dba53514",
   "metadata": {},
   "source": [
    "### Questions\n",
    "In the code below, please,\n",
    "\n",
    "11. Code the `intermediate_position` routine which generates an intermediate position at a given time between two successive positions of the Brownian motions.\n",
    "12. Code the `complete_motion` routine which generates the intermediate middle position between all two successive positions of a given Brownian motion sequence"
   ]
  },
  {
   "cell_type": "code",
   "execution_count": 6,
   "id": "e7dc0344",
   "metadata": {},
   "outputs": [],
   "source": [
    "class brownian_motion:\n",
    "    def __init__(self,):\n",
    "        # Parameter initialization\n",
    "        pass\n",
    "    \n",
    "    def position_sequence(self, xinit, t_arr):\n",
    "        # outputs a sequence of successive positions of \n",
    "        # a Brownian motion at times set by the array t_arr and starting \n",
    "        # from a given initial position xinit\n",
    "        dt_list = t_arr[1:] - t_arr[:-1]\n",
    "        # The Brownian increments are normally distributed \n",
    "        # with mean 0 and variance the time elapsed between \n",
    "        # two positions\n",
    "        dB = np.sqrt(dt_list) * np.random.randn(len(t_arr)-1)\n",
    "        B = np.insert(xinit + np.cumsum(dB),0,xinit)\n",
    "        return B\n",
    "    \n",
    "    def intermediate_position(self, s, t1, t2, Bt1, Bt2):        \n",
    "        # Write a routine generating the position of the Brownian\n",
    "        # motion at time s when given its positions Bt1 and Bt2 \n",
    "        # respectively at time t1 and t2\n",
    "        return \n",
    "    \n",
    "    def complete_motion(self, t_arr, Bt):     \n",
    "        # Write a routine generating the intermediate middle-time \n",
    "        # position of the Brownian motion having as a sequence \n",
    "        # of positions Bt at times given by the sequence t_arr\n",
    "        return "
   ]
  },
  {
   "cell_type": "markdown",
   "id": "3636c85a",
   "metadata": {},
   "source": [
    "## Questions\n",
    "13. Generate the positions at time $0,1,2, \\dots 10$ (time increment = 1) of a Brownian motion and complete the sequence of the positions of the sequence down to a time increment of 0.03125. Plot an example.\n",
    "14. Check your result by comparing from samples obtained by direct simulation and obtained by the iterated generation:  \n",
    "- the distribution of the position value at $t=5-0.03125$. Add the expected theoretical distribution to the plot.\n",
    "- the distribution of the maximal absolute position value obtained. \n",
    "-  the distribution of the time $t$ at which the maximal absolute position value is reached."
   ]
  }
 ],
 "metadata": {
  "kernelspec": {
   "display_name": "Python 3 (ipykernel)",
   "language": "python",
   "name": "python3"
  },
  "language_info": {
   "codemirror_mode": {
    "name": "ipython",
    "version": 3
   },
   "file_extension": ".py",
   "mimetype": "text/x-python",
   "name": "python",
   "nbconvert_exporter": "python",
   "pygments_lexer": "ipython3",
   "version": "3.11.0"
  }
 },
 "nbformat": 4,
 "nbformat_minor": 5
}
